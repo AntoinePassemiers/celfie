{
 "cells": [
  {
   "cell_type": "markdown",
   "metadata": {},
   "source": [
    "# cfDNA simulations w/ real WGBS \n",
    "\n",
    "assess the performance of our EM algorithm in challenging real data regimes"
   ]
  },
  {
   "cell_type": "markdown",
   "metadata": {},
   "source": [
    "## Imports"
   ]
  },
  {
   "cell_type": "code",
   "execution_count": 1,
   "metadata": {},
   "outputs": [],
   "source": [
    "import numpy as np \n",
    "import pandas as pd \n",
    "import glob\n",
    "import seaborn as sns\n",
    "import matplotlib.pyplot as plt\n",
    "import pickle as pkl"
   ]
  },
  {
   "cell_type": "markdown",
   "metadata": {},
   "source": [
    "## Load results "
   ]
  },
  {
   "cell_type": "code",
   "execution_count": 2,
   "metadata": {},
   "outputs": [],
   "source": [
    "def load_pickles(directory, parameter):\n",
    "    \"\"\"\n",
    "    output from EM is a pickle file of estimate and true simulation values \n",
    "    load these pickles into dataframe \n",
    "    \"\"\"\n",
    "    \n",
    "    est_files = glob.glob(directory + \"/*\" + parameter + \"_est.pkl\")  # estimates from EM \n",
    "    df = pd.DataFrame(columns={\"estimate\", \"individual\", \"truth\", \"tissue\", \"iteration\"})  # intialize dataframe\n",
    "\n",
    "    \n",
    "    for file in range(len(est_files)):  # iterate over all random restarts in the directory \n",
    "        \n",
    "        est_file = est_files[file]  # get all estimates \n",
    "        true_file = est_file.replace(\"est\", \"true\")  # true simulations \n",
    "        \n",
    "        true = pkl.load(open(true_file, \"rb\"))\n",
    "        est = pkl.load(open(est_file, \"rb\"))\n",
    "        \n",
    "        for individual, pair in enumerate(zip(est, true)): \n",
    "            e, t = pair[0], pair[1]\n",
    "            \n",
    "            for i in range(len(t)):  # add each estimate for each tissue to dataframe \n",
    "                df = df.append({\"estimate\":e[i], \"individual\":individual, \"truth\":t[i], \n",
    "                            \"tissue\":i, \"iteration\":file}, ignore_index=True)\n",
    "        \n",
    "    return df\n"
   ]
  },
  {
   "cell_type": "code",
   "execution_count": 3,
   "metadata": {},
   "outputs": [],
   "source": [
    "def load_gamma_corr(directory, parameter):\n",
    "    \"\"\"\n",
    "    calculate the correlation between the true and estimated EM output from the pickle files \n",
    "    \"\"\"\n",
    "    \n",
    "    est_files = glob.glob(directory + \"/*\" + parameter + \"_est.pkl\")\n",
    "    df = pd.DataFrame(columns={\"tissue\", \"correlation\"})\n",
    "\n",
    "    \n",
    "    for file in range(len(est_files)):\n",
    "        # load the files\n",
    "        est_file = est_files[file]\n",
    "        true_file = est_file.replace(\"est\", \"true\")\n",
    "        \n",
    "        true = pkl.load(open(true_file, \"rb\"))\n",
    "        est = pkl.load(open(est_file, \"rb\"))\n",
    "        \n",
    "        for t in range(est.shape[0]): \n",
    "            corr = np.corrcoef(true[t, :], est[t, :])[0][1]  # calculate the correlation \n",
    "            df = df.append({\"tissue\":str(t), \"correlation\":corr}, ignore_index=True)\n",
    "    \n",
    "    return df"
   ]
  },
  {
   "cell_type": "markdown",
   "metadata": {},
   "source": [
    "## one unknown "
   ]
  },
  {
   "cell_type": "code",
   "execution_count": null,
   "metadata": {},
   "outputs": [],
   "source": []
  }
 ],
 "metadata": {
  "kernelspec": {
   "display_name": "Python 3",
   "language": "python",
   "name": "python3"
  },
  "language_info": {
   "codemirror_mode": {
    "name": "ipython",
    "version": 3
   },
   "file_extension": ".py",
   "mimetype": "text/x-python",
   "name": "python",
   "nbconvert_exporter": "python",
   "pygments_lexer": "ipython3",
   "version": "3.7.0"
  }
 },
 "nbformat": 4,
 "nbformat_minor": 2
}
